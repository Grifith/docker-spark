{
 "cells": [
  {
   "cell_type": "markdown",
   "metadata": {},
   "source": [
    "# Spark session"
   ]
  },
  {
   "cell_type": "code",
   "execution_count": 1,
   "metadata": {},
   "outputs": [
    {
     "name": "stderr",
     "output_type": "stream",
     "text": [
      "WARNING: An illegal reflective access operation has occurred\n",
      "WARNING: Illegal reflective access by org.apache.spark.unsafe.Platform (file:/usr/local/spark-3.1.2-bin-hadoop3.2/jars/spark-unsafe_2.12-3.1.2.jar) to constructor java.nio.DirectByteBuffer(long,int)\n",
      "WARNING: Please consider reporting this to the maintainers of org.apache.spark.unsafe.Platform\n",
      "WARNING: Use --illegal-access=warn to enable warnings of further illegal reflective access operations\n",
      "WARNING: All illegal access operations will be denied in a future release\n",
      "21/11/01 03:17:39 WARN NativeCodeLoader: Unable to load native-hadoop library for your platform... using builtin-java classes where applicable\n",
      "Using Spark's default log4j profile: org/apache/spark/log4j-defaults.properties\n",
      "Setting default log level to \"WARN\".\n",
      "To adjust logging level use sc.setLogLevel(newLevel). For SparkR, use setLogLevel(newLevel).\n"
     ]
    }
   ],
   "source": [
    "from pyspark.sql import SparkSession\n",
    "\n",
    "# Spark session & context\n",
    "spark = (SparkSession\n",
    "         .builder\n",
    "         .master(\"local\")\n",
    "         .appName(\"load-postgres\")\n",
    "         # Add postgres jar\n",
    "         .config(\"spark.driver.extraClassPath\", \"/home/jovyan/work/jars/postgresql-9.4.1207.jar\")\n",
    "         .getOrCreate())\n",
    "sc = spark.sparkContext"
   ]
  },
  {
   "cell_type": "markdown",
   "metadata": {},
   "source": [
    "# Read Json data"
   ]
  },
  {
   "cell_type": "code",
   "execution_count": 2,
   "metadata": {},
   "outputs": [
    {
     "name": "stderr",
     "output_type": "stream",
     "text": [
      "                                                                                \r"
     ]
    }
   ],
   "source": [
    "# read the books data from internet archive\n",
    "df_books = (\n",
    "    spark.read\n",
    "    .format(\"json\")\n",
    "    .load(\"/home/jovyan/work/data/ol_cdump.json\")\n",
    ")"
   ]
  },
  {
   "cell_type": "markdown",
   "metadata": {},
   "source": [
    "# Schema for the Dataframe"
   ]
  },
  {
   "cell_type": "code",
   "execution_count": 4,
   "metadata": {},
   "outputs": [
    {
     "name": "stdout",
     "output_type": "stream",
     "text": [
      "root\n",
      " |-- alternate_names: array (nullable = true)\n",
      " |    |-- element: string (containsNull = true)\n",
      " |-- authors: array (nullable = true)\n",
      " |    |-- element: struct (containsNull = true)\n",
      " |    |    |-- author: struct (nullable = true)\n",
      " |    |    |    |-- key: string (nullable = true)\n",
      " |    |    |-- key: string (nullable = true)\n",
      " |    |    |-- type: string (nullable = true)\n",
      " |-- bio: string (nullable = true)\n",
      " |-- birth_date: string (nullable = true)\n",
      " |-- by_statement: string (nullable = true)\n",
      " |-- contributions: array (nullable = true)\n",
      " |    |-- element: string (containsNull = true)\n",
      " |-- contributors: array (nullable = true)\n",
      " |    |-- element: struct (containsNull = true)\n",
      " |    |    |-- name: string (nullable = true)\n",
      " |    |    |-- role: string (nullable = true)\n",
      " |-- copyright_date: string (nullable = true)\n",
      " |-- covers: array (nullable = true)\n",
      " |    |-- element: long (containsNull = true)\n",
      " |-- created: struct (nullable = true)\n",
      " |    |-- type: string (nullable = true)\n",
      " |    |-- value: string (nullable = true)\n",
      " |-- death_date: string (nullable = true)\n",
      " |-- description: string (nullable = true)\n",
      " |-- dewey_decimal_class: array (nullable = true)\n",
      " |    |-- element: string (containsNull = true)\n",
      " |-- dewey_number: array (nullable = true)\n",
      " |    |-- element: string (containsNull = true)\n",
      " |-- download_url: array (nullable = true)\n",
      " |    |-- element: string (containsNull = true)\n",
      " |-- edition_name: string (nullable = true)\n",
      " |-- excerpts: array (nullable = true)\n",
      " |    |-- element: struct (containsNull = true)\n",
      " |    |    |-- excerpt: struct (nullable = true)\n",
      " |    |    |    |-- type: string (nullable = true)\n",
      " |    |    |    |-- value: string (nullable = true)\n",
      " |    |    |-- page: string (nullable = true)\n",
      " |-- first_publish_date: string (nullable = true)\n",
      " |-- first_sentence: string (nullable = true)\n",
      " |-- full_title: string (nullable = true)\n",
      " |-- fuller_name: string (nullable = true)\n",
      " |-- genres: array (nullable = true)\n",
      " |    |-- element: string (containsNull = true)\n",
      " |-- ia_box_id: array (nullable = true)\n",
      " |    |-- element: string (containsNull = true)\n",
      " |-- ia_loaded_id: string (nullable = true)\n",
      " |-- identifiers: struct (nullable = true)\n",
      " |    |-- amazon: array (nullable = true)\n",
      " |    |    |-- element: string (containsNull = true)\n",
      " |    |-- amazon.co.uk_asin: array (nullable = true)\n",
      " |    |    |-- element: string (containsNull = true)\n",
      " |    |-- goodreads: array (nullable = true)\n",
      " |    |    |-- element: string (containsNull = true)\n",
      " |    |-- librarything: array (nullable = true)\n",
      " |    |    |-- element: string (containsNull = true)\n",
      " |-- isbn_10: array (nullable = true)\n",
      " |    |-- element: string (containsNull = true)\n",
      " |-- isbn_13: array (nullable = true)\n",
      " |    |-- element: string (containsNull = true)\n",
      " |-- isbn_invalid: array (nullable = true)\n",
      " |    |-- element: string (containsNull = true)\n",
      " |-- isbn_odd_length: array (nullable = true)\n",
      " |    |-- element: string (containsNull = true)\n",
      " |-- key: string (nullable = true)\n",
      " |-- languages: array (nullable = true)\n",
      " |    |-- element: struct (containsNull = true)\n",
      " |    |    |-- key: string (nullable = true)\n",
      " |-- last_modified: struct (nullable = true)\n",
      " |    |-- type: string (nullable = true)\n",
      " |    |-- value: string (nullable = true)\n",
      " |-- latest_revision: long (nullable = true)\n",
      " |-- lc_classifications: array (nullable = true)\n",
      " |    |-- element: string (containsNull = true)\n",
      " |-- lccn: array (nullable = true)\n",
      " |    |-- element: string (containsNull = true)\n",
      " |-- links: array (nullable = true)\n",
      " |    |-- element: struct (containsNull = true)\n",
      " |    |    |-- title: string (nullable = true)\n",
      " |    |    |-- type: struct (nullable = true)\n",
      " |    |    |    |-- key: string (nullable = true)\n",
      " |    |    |-- url: string (nullable = true)\n",
      " |-- location: string (nullable = true)\n",
      " |-- name: string (nullable = true)\n",
      " |-- notes: string (nullable = true)\n",
      " |-- number_of_pages: long (nullable = true)\n",
      " |-- ocaid: string (nullable = true)\n",
      " |-- oclc_number: array (nullable = true)\n",
      " |    |-- element: string (containsNull = true)\n",
      " |-- oclc_numbers: array (nullable = true)\n",
      " |    |-- element: string (containsNull = true)\n",
      " |-- other_titles: array (nullable = true)\n",
      " |    |-- element: string (containsNull = true)\n",
      " |-- pagination: string (nullable = true)\n",
      " |-- personal_name: string (nullable = true)\n",
      " |-- photos: array (nullable = true)\n",
      " |    |-- element: long (containsNull = true)\n",
      " |-- physical_dimensions: string (nullable = true)\n",
      " |-- physical_format: string (nullable = true)\n",
      " |-- publish_country: string (nullable = true)\n",
      " |-- publish_date: string (nullable = true)\n",
      " |-- publish_places: array (nullable = true)\n",
      " |    |-- element: string (containsNull = true)\n",
      " |-- publishers: array (nullable = true)\n",
      " |    |-- element: string (containsNull = true)\n",
      " |-- purchase_url: array (nullable = true)\n",
      " |    |-- element: string (containsNull = true)\n",
      " |-- revision: long (nullable = true)\n",
      " |-- series: array (nullable = true)\n",
      " |    |-- element: string (containsNull = true)\n",
      " |-- source_records: array (nullable = true)\n",
      " |    |-- element: string (containsNull = true)\n",
      " |-- subject_people: array (nullable = true)\n",
      " |    |-- element: string (containsNull = true)\n",
      " |-- subject_place: array (nullable = true)\n",
      " |    |-- element: string (containsNull = true)\n",
      " |-- subject_places: array (nullable = true)\n",
      " |    |-- element: string (containsNull = true)\n",
      " |-- subject_time: array (nullable = true)\n",
      " |    |-- element: string (containsNull = true)\n",
      " |-- subject_times: array (nullable = true)\n",
      " |    |-- element: string (containsNull = true)\n",
      " |-- subjects: array (nullable = true)\n",
      " |    |-- element: string (containsNull = true)\n",
      " |-- subtitle: string (nullable = true)\n",
      " |-- table_of_contents: array (nullable = true)\n",
      " |    |-- element: struct (containsNull = true)\n",
      " |    |    |-- class: string (nullable = true)\n",
      " |    |    |-- label: string (nullable = true)\n",
      " |    |    |-- level: long (nullable = true)\n",
      " |    |    |-- pagenum: string (nullable = true)\n",
      " |    |    |-- title: string (nullable = true)\n",
      " |    |    |-- type: string (nullable = true)\n",
      " |    |    |-- value: string (nullable = true)\n",
      " |-- title: string (nullable = true)\n",
      " |-- title_prefix: string (nullable = true)\n",
      " |-- type: struct (nullable = true)\n",
      " |    |-- key: string (nullable = true)\n",
      " |-- uri_descriptions: array (nullable = true)\n",
      " |    |-- element: string (containsNull = true)\n",
      " |-- uris: array (nullable = true)\n",
      " |    |-- element: string (containsNull = true)\n",
      " |-- url: array (nullable = true)\n",
      " |    |-- element: string (containsNull = true)\n",
      " |-- website: string (nullable = true)\n",
      " |-- weight: string (nullable = true)\n",
      " |-- work_title: array (nullable = true)\n",
      " |    |-- element: string (containsNull = true)\n",
      " |-- work_titles: array (nullable = true)\n",
      " |    |-- element: string (containsNull = true)\n",
      " |-- works: array (nullable = true)\n",
      " |    |-- element: struct (containsNull = true)\n",
      " |    |    |-- key: string (nullable = true)\n",
      "\n"
     ]
    }
   ],
   "source": [
    "#schema\n",
    "df_books.printSchema()"
   ]
  },
  {
   "cell_type": "markdown",
   "metadata": {},
   "source": [
    "# No of records in Data Frame"
   ]
  },
  {
   "cell_type": "code",
   "execution_count": 5,
   "metadata": {},
   "outputs": [
    {
     "name": "stderr",
     "output_type": "stream",
     "text": [
      "                                                                                \r"
     ]
    },
    {
     "data": {
      "text/plain": [
       "148163"
      ]
     },
     "execution_count": 5,
     "metadata": {},
     "output_type": "execute_result"
    }
   ],
   "source": [
    "# total number of records before DQC\n",
    "df_books.repartition(4).count()"
   ]
  },
  {
   "cell_type": "markdown",
   "metadata": {},
   "source": [
    "# Data Quality Checker"
   ]
  },
  {
   "cell_type": "code",
   "execution_count": 6,
   "metadata": {},
   "outputs": [],
   "source": [
    "# Quality checker and filter events\n",
    "df_dqc=df_books.filter(\"(title is not null or length(title)>0) and number_of_pages>20 and publish_date between 1950 and current_date\")"
   ]
  },
  {
   "cell_type": "markdown",
   "metadata": {},
   "source": [
    "# Post DQC Count"
   ]
  },
  {
   "cell_type": "code",
   "execution_count": 7,
   "metadata": {},
   "outputs": [
    {
     "name": "stderr",
     "output_type": "stream",
     "text": [
      "                                                                                \r"
     ]
    },
    {
     "data": {
      "text/plain": [
       "76076"
      ]
     },
     "execution_count": 7,
     "metadata": {},
     "output_type": "execute_result"
    }
   ],
   "source": [
    "# total records after the DQC filter\n",
    "df_dqc.count()"
   ]
  },
  {
   "cell_type": "markdown",
   "metadata": {},
   "source": [
    "# Cleansed and exploded Author DF"
   ]
  },
  {
   "cell_type": "code",
   "execution_count": 8,
   "metadata": {},
   "outputs": [],
   "source": [
    "# explode author and convert created_time to timestamp type\n",
    "\n",
    "from pyspark.sql.functions import from_unixtime, col, to_timestamp\n",
    "from pyspark.sql.functions import explode,regexp_replace\n",
    "\n",
    "df_author_explode = (df_dqc\n",
    "            .withColumn('created_time', to_timestamp(\"created.value\"))\n",
    "            .filter(\"created_time is not null\")\n",
    "            .select(explode(\"authors.key\").alias(\"author\"),\"created_time\",\"publish_date\",\"title\",\"number_of_pages\")\n",
    "            .filter(\"author is  NOT NULL\")\n",
    "            .select(regexp_replace('author', '/authors/', '').alias(\"author\"),\"created_time\",\"publish_date\",\"title\",\"number_of_pages\")\n",
    "             )\n"
   ]
  },
  {
   "cell_type": "code",
   "execution_count": 28,
   "metadata": {},
   "outputs": [
    {
     "name": "stderr",
     "output_type": "stream",
     "text": [
      "\r",
      "[Stage 8:>                                                          (0 + 1) / 2]\r"
     ]
    },
    {
     "name": "stdout",
     "output_type": "stream",
     "text": [
      "+--------------------+----------+------------+--------------------+---------------+\n",
      "|               title|    author|publish_date|        created_time|number_of_pages|\n",
      "+--------------------+----------+------------+--------------------+---------------+\n",
      "|   What's that bird?|OL1390027A|        2011|2009-02-17 21:36:...|            117|\n",
      "|        Oral biology|OL7125007A|        2010|2012-05-16 07:31:...|            422|\n",
      "|        Oral biology|OL5893410A|        2010|2012-05-16 07:31:...|            422|\n",
      "|        Oral biology|OL7125008A|        2010|2012-05-16 07:31:...|            422|\n",
      "|The Little, Brown...| OL387041A|        2010|2009-02-17 17:35:...|            965|\n",
      "|The foreclosure o...|OL6569545A|        2009|2009-02-17 19:54:...|            354|\n",
      "|Basic photographi...|OL6569535A|        2009|2009-02-17 19:54:...|            462|\n",
      "|     Mrs Mismarriage|OL6569385A|        2009|2009-02-17 19:48:...|            239|\n",
      "|          Be my baby|OL1534595A|        2009|2009-02-17 19:48:...|            263|\n",
      "|  Undercover tai tai|OL6569384A|        2009|2009-02-17 19:48:...|            223|\n",
      "|       Amazing Grace|OL6569383A|        2009|2009-02-17 19:48:...|            183|\n",
      "|Five little white...|OL6569378A|        2009|2009-02-17 19:48:...|            160|\n",
      "|Adobe Flash CS4 p...|OL1420685A|        2009|2009-02-17 19:47:...|            573|\n",
      "|            Defiance| OL252648A|        2009|2009-02-17 19:46:...|            374|\n",
      "|The remarkable ex...| OL241946A|        2009|2009-02-17 19:46:...|            323|\n",
      "|Consumer product ...| OL239310A|        2009|2009-02-17 19:22:...|            386|\n",
      "|Adult telephone p...|OL6568713A|        2009|2009-02-17 19:19:...|            514|\n",
      "|        Playing bass|OL6568710A|        2009|2009-02-17 19:19:...|            169|\n",
      "|       On aesthetics| OL236353A|        2009|2009-02-17 19:19:...|            204|\n",
      "|Techniques for ma...| OL455032A|        2009|2009-02-17 19:19:...|            194|\n",
      "|                  OM| OL721285A|        2009|2009-02-17 19:18:...|            371|\n",
      "|Data, voice, and ...| OL456077A|        2009|2009-02-17 19:18:...|            324|\n",
      "| Conflict resolution| OL776227A|        2009|2009-02-17 19:18:...|            336|\n",
      "|Real Men Ride Horses|OL1431207A|        2009|2009-02-17 19:14:...|            150|\n",
      "|Composing with Fi...| OL257613A|        2009|2009-02-17 19:13:...|            310|\n",
      "|Scratch programmi...|OL1397113A|        2009|2009-02-17 19:13:...|            315|\n",
      "|    Ice architecture|OL3146747A|        2009|2009-02-17 19:02:...|            173|\n",
      "| Desert architecture|OL3146747A|        2009|2009-02-17 19:02:...|            173|\n",
      "| Successful teamwork|OL3083513A|        2009|2009-02-17 18:57:...|            196|\n",
      "|         Cashamadīda|OL6567517A|        2009|2009-02-17 18:48:...|            196|\n",
      "|Hijjara wasala de...| OL178946A|        2009|2009-02-17 18:47:...|             96|\n",
      "| The wandering Sufis|OL6567946A|        2009|2009-02-17 18:47:...|            267|\n",
      "|Culture, polity, ...|OL6567942A|        2009|2009-02-17 18:47:...|            343|\n",
      "|Fundamentals of P...|OL4675676A|        2009|2009-02-17 18:47:...|            168|\n",
      "|Uttara Pūrva kā s...|OL6567528A|        2009|2009-02-17 18:32:...|            265|\n",
      "|The Nyishi of Aru...|OL6567524A|        2009|2009-02-17 18:32:...|            255|\n",
      "|Desī muraga walai...|OL6567517A|        2009|2009-02-17 18:31:...|            115|\n",
      "|     Dhritarāshaṭara| OL108850A|        2009|2009-02-17 18:31:...|            308|\n",
      "|Khataramme kalaca...| OL101982A|        2009|2009-02-17 18:31:...|            264|\n",
      "|            Āsa pāsa|OL6567517A|        2009|2009-02-17 18:31:...|            176|\n",
      "|Empowerment and e...|OL6567424A|        2009|2009-02-17 18:29:...|            216|\n",
      "|Social justice ph...| OL309046A|        2009|2009-02-17 18:29:...|            303|\n",
      "|Irish tourism, 18...|OL6546414A|        2009|2009-02-17 18:26:...|            254|\n",
      "|The little digita...| OL452942A|        2009|2009-02-17 18:24:...|            223|\n",
      "|Assessment of stu...| OL232163A|        2009|2009-02-17 18:22:...|            234|\n",
      "|The 2008 presiden...|OL1416889A|        2009|2009-02-17 18:20:...|            174|\n",
      "|Microsoft SQL ser...|OL2753073A|        2009|2009-02-17 17:34:...|            865|\n",
      "|Ball, bat, and Bi...|OL6509994A|        2009|2009-02-17 17:34:...|            204|\n",
      "| American government| OL383495A|        2009|2009-02-17 17:34:...|            434|\n",
      "|  Stephen R. Bradley|OL4285869A|        2009|2009-02-17 17:34:...|            442|\n",
      "|   Learning to teach| OL394657A|        2009|2009-02-17 17:33:...|            584|\n",
      "|New Mexico & poli...| OL442202A|        2009|2009-02-17 17:33:...|            127|\n",
      "|The whole damned ...|OL6504698A|        2009|2009-02-17 17:33:...|            371|\n",
      "|A practical intro...| OL399129A|        2009|2009-02-17 17:32:...|            452|\n",
      "|The politics of e...|OL6566677A|        2009|2009-02-17 17:30:...|            228|\n",
      "|International rel...| OL939919A|        2009|2009-02-17 17:30:...|            323|\n",
      "|    States of matter|OL6538270A|        2009|2009-02-17 17:30:...|             32|\n",
      "|     What are taxes?|OL1433225A|        2009|2009-02-17 17:29:...|             32|\n",
      "|    Chemical changes|OL6538270A|        2009|2009-02-17 17:29:...|             32|\n",
      "|       Tobey Maguire| OL217609A|        2009|2009-02-17 17:28:...|             64|\n",
      "|            Practice| OL235125A|        2009|2009-02-17 17:27:...|            255|\n",
      "|Lengthening the a...|OL5096971A|        2009|2009-02-17 17:26:...|            318|\n",
      "|The graphic desig...|OL2740054A|        2009|2009-02-17 17:26:...|            261|\n",
      "|Institutions of t...|OL2695836A|        2009|2009-02-17 17:26:...|            131|\n",
      "|Diversified healt...| OL413060A|        2009|2009-02-17 17:25:...|           1074|\n",
      "|Do you make these...| OL533259A|        2009|2009-02-17 17:12:...|            214|\n",
      "|    Lincoln's censor|OL6566437A|        2009|2009-02-17 17:11:...|            340|\n",
      "|     Paint your life|OL5363039A|        2009|2009-02-17 16:02:...|            127|\n",
      "|Safe overseas travel|OL2649550A|        2009|2009-02-17 15:38:...|            287|\n",
      "|Intercultural com...|OL2810291A|        2009|2009-02-17 15:36:...|            400|\n",
      "|Henryk Sandomiers...|OL6284982A|        2009|2009-02-16 23:24:...|            165|\n",
      "|$700 billion bailout|OL2891668A|        2009|2009-02-12 12:24:...|            187|\n",
      "|Anagarika's Swansong| OL207561A|        2009|2009-01-16 08:55:...|            440|\n",
      "|The Anagarika's S...| OL207561A|        2009|2009-01-16 06:15:...|            440|\n",
      "|    Grown up digital| OL395519A|        2009|2009-01-08 06:05:...|            368|\n",
      "|The last stand of...|OL1602823A|        2009|2009-01-08 05:57:...|            353|\n",
      "|   A history of food| OL668319A|        2009|2009-01-08 05:53:...|            756|\n",
      "|        Uncivil wars| OL840842A|        2009|2009-01-08 05:33:...|            413|\n",
      "|       Antitrust law|OL1349566A|        2009|2009-01-07 22:52:...|            926|\n",
      "|     Waqʻ al-ruʼīyah|OL5093123A|        2009|2009-01-07 22:45:...|            283|\n",
      "|Mawsūʻat al-zirāʻ...|OL6549503A|        2009|2009-01-07 22:45:...|            375|\n",
      "|     Kitāb al-kharāj|OL4697768A|        2009|2009-01-07 22:45:...|            636|\n",
      "|   Tuḥfat al-wuzarāʼ| OL175394A|        2009|2009-01-07 22:45:...|            222|\n",
      "|al-Jāmiʻ li-mā yu...|OL5637053A|        2009|2009-01-07 22:45:...|            192|\n",
      "|Moments of truth ...|OL6549283A|        2009|2009-01-07 22:36:...|            183|\n",
      "|Primary education...|OL1525540A|        2009|2009-01-07 22:28:...|            162|\n",
      "|     Beyond violence|OL1002950A|        2009|2009-01-07 22:27:...|            128|\n",
      "|Indian industrial...|OL6549145A|        2009|2009-01-07 22:27:...|            899|\n",
      "|   Partition stories|OL6549135A|        2009|2009-01-07 22:27:...|            263|\n",
      "|    Ancient Varanasi| OL308432A|        2009|2009-01-07 22:27:...|            232|\n",
      "|Craft artisans in...|OL6549123A|        2009|2009-01-07 22:27:...|            261|\n",
      "|Select correspond...|OL5373542A|        2009|2009-01-07 22:26:...|            754|\n",
      "|Kovidānanda--vima...|OL6549080A|        2009|2009-01-07 22:25:...|            264|\n",
      "|Mānameya prakāśik...|OL6508660A|        2009|2009-01-07 22:25:...|            396|\n",
      "|A história não co...|OL6549065A|        2009|2009-01-07 22:25:...|            408|\n",
      "|Trouble at twilig...|OL1482819A|        2009|2009-01-07 22:23:...|             95|\n",
      "|American cinema/A...| OL716743A|        2009|2009-01-07 22:05:...|            455|\n",
      "|The Federal Leagu...|OL6511496A|        2009|2009-01-07 22:04:...|            362|\n",
      "|   Russia since 1980| OL429428A|        2009|2009-01-07 22:04:...|            347|\n",
      "|Database design a...|OL4647504A|        2009|2009-01-07 22:04:...|            762|\n",
      "+--------------------+----------+------------+--------------------+---------------+\n",
      "only showing top 100 rows\n",
      "\n"
     ]
    },
    {
     "name": "stderr",
     "output_type": "stream",
     "text": [
      "\r",
      "[Stage 8:=============================>                             (1 + 1) / 2]\r",
      "\r",
      "                                                                                \r"
     ]
    }
   ],
   "source": [
    "df_author_explode.select(\"title\",\"author\",\"publish_date\",\"created_time\",\"number_of_pages\").orderBy(col(\"publish_date\").desc(),col(\"created_time\").desc()).show(100)"
   ]
  },
  {
   "cell_type": "markdown",
   "metadata": {},
   "source": [
    "# First Published Author"
   ]
  },
  {
   "cell_type": "code",
   "execution_count": 263,
   "metadata": {},
   "outputs": [
    {
     "name": "stderr",
     "output_type": "stream",
     "text": [
      "\r",
      "[Stage 269:>                                                        (0 + 1) / 2]\r"
     ]
    },
    {
     "name": "stdout",
     "output_type": "stream",
     "text": [
      "OL2170249A\n"
     ]
    },
    {
     "name": "stderr",
     "output_type": "stream",
     "text": [
      "\r",
      "                                                                                \r"
     ]
    }
   ],
   "source": [
    "str=df_author_explode.orderBy(col(\"publish_date\").asc(),col(\"created_time\").asc()).head().author\n",
    "print(str)"
   ]
  },
  {
   "cell_type": "markdown",
   "metadata": {},
   "source": [
    "# Last Published Author"
   ]
  },
  {
   "cell_type": "code",
   "execution_count": 197,
   "metadata": {},
   "outputs": [
    {
     "name": "stderr",
     "output_type": "stream",
     "text": [
      "                                                                                \r"
     ]
    },
    {
     "data": {
      "text/plain": [
       "'OL1390027A'"
      ]
     },
     "execution_count": 197,
     "metadata": {},
     "output_type": "execute_result"
    }
   ],
   "source": [
    "df_author_explode.orderBy(col(\"publish_date\").desc(),col(\"created_time\").desc()).head().author"
   ]
  },
  {
   "cell_type": "markdown",
   "metadata": {},
   "source": [
    "# Windowing to get the first and last published author each year"
   ]
  },
  {
   "cell_type": "code",
   "execution_count": 198,
   "metadata": {},
   "outputs": [
    {
     "name": "stderr",
     "output_type": "stream",
     "text": [
      "[Stage 192:====================================================>(198 + 1) / 200]\r"
     ]
    },
    {
     "name": "stdout",
     "output_type": "stream",
     "text": [
      "+------------+----------+----------+-------------+\n",
      "|publish_date|        fv|        lv|count(author)|\n",
      "+------------+----------+----------+-------------+\n",
      "|        1950|OL2170249A|OL6570747A|          614|\n",
      "|        1951|OL2170249A|OL6570639A|          648|\n",
      "|        1952|OL6535912A|OL6570637A|          601|\n",
      "|        1953|OL2261944A| OL731406A|          600|\n",
      "|        1954|OL6535994A| OL120803A|          644|\n",
      "|        1955| OL135548A|OL4673667A|          588|\n",
      "|        1956|OL4880801A|OL6570892A|          638|\n",
      "|        1957|OL1786598A| OL234204A|          705|\n",
      "|        1958|OL4491638A|OL1674060A|          753|\n",
      "|        1959|OL6535916A| OL367501A|          830|\n",
      "|        1960|OL6314966A| OL142020A|          920|\n",
      "|        1961|OL1642212A|OL6570918A|         1026|\n",
      "|        1962|OL4409259A|OL2194405A|         1064|\n",
      "|        1963|OL6535908A|OL4673667A|         1099|\n",
      "|        1964|OL5900510A| OL409560A|         1194|\n",
      "|        1965|OL5459805A|OL6561328A|         1248|\n",
      "|        1966| OL133670A|OL6561385A|         1203|\n",
      "|        1967|OL1101506A|OL2240161A|         1243|\n",
      "|        1968| OL237227A|OL1717810A|         1082|\n",
      "|        1969| OL194893A| OL262662A|         1209|\n",
      "|        1970|OL6314966A| OL924364A|         1139|\n",
      "|        1971| OL118656A| OL632125A|         1070|\n",
      "|        1972|OL6532917A|OL4782755A|         1010|\n",
      "|        1973|OL1862875A|OL5905668A|         1135|\n",
      "|        1974|OL1966168A|OL6435937A|         1096|\n",
      "|        1975| OL124757A|OL6570790A|          985|\n",
      "|        1976| OL399601A|OL6559855A|          888|\n",
      "|        1977|OL1549186A|OL1700548A|          704|\n",
      "|        1978|OL2625283A|OL1818280A|          735|\n",
      "|        1979| OL852416A|OL4830498A|          813|\n",
      "|        1980|OL6536619A|OL1105628A|          852|\n",
      "|        1981| OL586575A|OL6570930A|          812|\n",
      "|        1982| OL121260A|OL6570597A|          918|\n",
      "|        1983|OL4328637A| OL350149A|          967|\n",
      "|        1984| OL891917A|OL6570899A|         1010|\n",
      "|        1985| OL224278A|OL6570919A|          989|\n",
      "|        1986|OL2855524A| OL551639A|         1080|\n",
      "|        1987| OL495523A| OL333892A|         1153|\n",
      "|        1988|OL6536021A| OL887425A|         1212|\n",
      "|        1989|OL2818248A|OL6570897A|         1375|\n",
      "|        1990| OL612871A|OL1607063A|         1593|\n",
      "|        1991|OL3883486A|OL4158109A|         1537|\n",
      "|        1992|OL2644643A|OL1676883A|         1731|\n",
      "|        1993| OL429702A|OL1312834A|         1809|\n",
      "|        1994|OL3883388A|OL6570916A|         2076|\n",
      "|        1995|OL3426606A|OL1385440A|         2299|\n",
      "|        1996|OL3006703A| OL449162A|         1887|\n",
      "|        1997| OL551164A| OL382982A|         2100|\n",
      "|        1998|OL2645102A|OL3318479A|         1932|\n",
      "|        1999|OL2760532A| OL226336A|         1236|\n",
      "|        2000|OL2818752A|OL2711162A|          965|\n",
      "|        2001|OL3447043A|OL6570937A|          748|\n",
      "|        2002|OL1480591A| OL501263A|          903|\n",
      "|        2003| OL840845A|OL6570936A|         1221|\n",
      "|        2004|OL1820993A|OL4899583A|         1077|\n",
      "|        2005| OL341626A| OL437934A|         1140|\n",
      "|        2006|OL2830780A| OL248288A|         1149|\n",
      "|        2007|OL6537589A|OL4980550A|         2243|\n",
      "|        2008|OL6532656A|OL2736011A|         3808|\n",
      "|        2009|OL3282480A|OL6569545A|          162|\n",
      "|        2010| OL387041A|OL5893410A|            4|\n",
      "|        2011|OL1390027A|OL1390027A|            1|\n",
      "+------------+----------+----------+-------------+\n",
      "\n"
     ]
    },
    {
     "name": "stderr",
     "output_type": "stream",
     "text": [
      "\r",
      "                                                                                \r"
     ]
    }
   ],
   "source": [
    "from pyspark.sql.window import Window\n",
    "from pyspark.sql.functions import row_number,first,last,countDistinct\n",
    "windowSpec  = Window.partitionBy(\"publish_date\").orderBy(\"created_time\")\n",
    "windowSpec1  = Window.partitionBy(\"publish_date\").orderBy(col(\"created_time\").desc())\n",
    "df_first_last_author_year = (\n",
    "    df_author_explode\n",
    "                 .withColumn(\"fv\",first(\"author\", True).over(windowSpec))\n",
    "                 .withColumn(\"lv\",first(\"author\", True).over(windowSpec1))\n",
    "                 .select(\"publish_date\",\"author\",\"title\",\"created_time\",\"fv\",\"lv\")\n",
    ")\n",
    "df_first_last_author_year.groupBy(\"publish_date\",\"fv\",\"lv\").agg(countDistinct(\"author\")).orderBy(\"publish_date\").show(100)\n"
   ]
  },
  {
   "cell_type": "markdown",
   "metadata": {},
   "source": [
    "# top 5 genres with most published books"
   ]
  },
  {
   "cell_type": "code",
   "execution_count": 194,
   "metadata": {},
   "outputs": [
    {
     "name": "stderr",
     "output_type": "stream",
     "text": [
      "[Stage 186:=============================================>       (171 + 1) / 200]\r"
     ]
    },
    {
     "name": "stdout",
     "output_type": "stream",
     "text": [
      "+-------------------+-----------+\n",
      "|              genre|count_title|\n",
      "+-------------------+-----------+\n",
      "|            Fiction|       3418|\n",
      "|          Biography|       2792|\n",
      "|Juvenile literature|       1682|\n",
      "|        Exhibitions|       1152|\n",
      "|   Juvenile fiction|        700|\n",
      "+-------------------+-----------+\n",
      "\n"
     ]
    },
    {
     "name": "stderr",
     "output_type": "stream",
     "text": [
      "\r",
      "                                                                                \r"
     ]
    }
   ],
   "source": [
    " from pyspark.sql.functions import translate,count,countDistinct\n",
    "\n",
    "cleaned_books_genre_temp = (\n",
    "                        df_dqc.select('title',explode(\"genres\").alias(\"genr\"))\n",
    "                              .select(\"title\", translate('genr','.','').alias(\"genre\"))\n",
    "                       )\n",
    "\n",
    "cleaned_books_genre =(\n",
    "                      cleaned_books_genre_temp.groupBy(\"genre\")\n",
    "                          .agg(count(\"title\").alias(\"count_title\"))\n",
    "                          .orderBy('count_title', ascending=False).limit(5)\n",
    "                      )\n",
    "cleaned_books_genre.show()"
   ]
  },
  {
   "cell_type": "markdown",
   "metadata": {},
   "source": [
    "# Retrieve the top 5 authors who (co-)authored the most books"
   ]
  },
  {
   "cell_type": "code",
   "execution_count": 225,
   "metadata": {},
   "outputs": [
    {
     "name": "stderr",
     "output_type": "stream",
     "text": [
      "[Stage 217:===================================>                 (135 + 2) / 200]\r"
     ]
    },
    {
     "name": "stdout",
     "output_type": "stream",
     "text": [
      "+----------+-----------+\n",
      "|    author|count_title|\n",
      "+----------+-----------+\n",
      "|OL4933802A|          8|\n",
      "| OL283941A|          8|\n",
      "| OL785848A|          7|\n",
      "|OL4416445A|          6|\n",
      "|OL6534774A|          6|\n",
      "+----------+-----------+\n",
      "\n"
     ]
    },
    {
     "name": "stderr",
     "output_type": "stream",
     "text": [
      "\r",
      "[Stage 217:============================================>        (169 + 1) / 200]\r",
      "\r",
      "                                                                                \r"
     ]
    }
   ],
   "source": [
    "from pyspark.sql.window import Window\n",
    "windowSpec  = Window.partitionBy(\"title\")\n",
    "df_unque_title_author = df_author_explode.select('title','author').distinct()\n",
    "\n",
    "df_title_co_authors = (\n",
    "                     df_unque_title_author\n",
    "                    .withColumn(\"cnt\",count(\"author\").over(windowSpec))\n",
    "                    .filter(col(\"cnt\") > 1)\n",
    ")\n",
    "\n",
    "df_top_authors_co_authors = (\n",
    "                                df_title_co_authors.groupBy(\"author\")\n",
    "                                .agg(countDistinct(\"title\").alias(\"count_title\"))\n",
    "                                .orderBy('count_title', ascending=False).limit(5)\n",
    ")\n",
    "df_top_authors_co_authors.show()"
   ]
  },
  {
   "cell_type": "markdown",
   "metadata": {},
   "source": [
    "# Per publish year, the number of authors that published at least one book"
   ]
  },
  {
   "cell_type": "code",
   "execution_count": 231,
   "metadata": {},
   "outputs": [
    {
     "name": "stderr",
     "output_type": "stream",
     "text": [
      "[Stage 224:====================================================>(198 + 1) / 200]\r"
     ]
    },
    {
     "name": "stdout",
     "output_type": "stream",
     "text": [
      "+------------+-------------+\n",
      "|publish_date|count(author)|\n",
      "+------------+-------------+\n",
      "|        1950|          614|\n",
      "|        1951|          648|\n",
      "|        1952|          601|\n",
      "|        1953|          600|\n",
      "|        1954|          644|\n",
      "|        1955|          588|\n",
      "|        1956|          638|\n",
      "|        1957|          705|\n",
      "|        1958|          753|\n",
      "|        1959|          830|\n",
      "|        1960|          920|\n",
      "|        1961|         1026|\n",
      "|        1962|         1064|\n",
      "|        1963|         1099|\n",
      "|        1964|         1194|\n",
      "|        1965|         1248|\n",
      "|        1966|         1203|\n",
      "|        1967|         1243|\n",
      "|        1968|         1082|\n",
      "|        1969|         1209|\n",
      "|        1970|         1139|\n",
      "|        1971|         1070|\n",
      "|        1972|         1010|\n",
      "|        1973|         1135|\n",
      "|        1974|         1096|\n",
      "|        1975|          985|\n",
      "|        1976|          888|\n",
      "|        1977|          704|\n",
      "|        1978|          735|\n",
      "|        1979|          813|\n",
      "|        1980|          852|\n",
      "|        1981|          812|\n",
      "|        1982|          918|\n",
      "|        1983|          967|\n",
      "|        1984|         1010|\n",
      "|        1985|          989|\n",
      "|        1986|         1080|\n",
      "|        1987|         1153|\n",
      "|        1988|         1212|\n",
      "|        1989|         1375|\n",
      "|        1990|         1593|\n",
      "|        1991|         1537|\n",
      "|        1992|         1731|\n",
      "|        1993|         1809|\n",
      "|        1994|         2076|\n",
      "|        1995|         2299|\n",
      "|        1996|         1887|\n",
      "|        1997|         2100|\n",
      "|        1998|         1932|\n",
      "|        1999|         1236|\n",
      "|        2000|          965|\n",
      "|        2001|          748|\n",
      "|        2002|          903|\n",
      "|        2003|         1221|\n",
      "|        2004|         1077|\n",
      "|        2005|         1140|\n",
      "|        2006|         1149|\n",
      "|        2007|         2243|\n",
      "|        2008|         3808|\n",
      "|        2009|          162|\n",
      "|        2010|            4|\n",
      "|        2011|            1|\n",
      "+------------+-------------+\n",
      "\n"
     ]
    },
    {
     "name": "stderr",
     "output_type": "stream",
     "text": [
      "\r",
      "                                                                                \r"
     ]
    }
   ],
   "source": [
    " from pyspark.sql.functions import countDistinct\n",
    "df_authors_per_year = (\n",
    "                        df_author_explode.groupBy(\"publish_date\").agg(countDistinct(\"author\"))\n",
    "                       .orderBy('publish_date')\n",
    ")\n",
    "df_authors_per_year.show(1000)"
   ]
  },
  {
   "cell_type": "markdown",
   "metadata": {},
   "source": [
    "# The number of authors and number of books published per month for years between 1950 and 1970"
   ]
  },
  {
   "cell_type": "code",
   "execution_count": 265,
   "metadata": {},
   "outputs": [
    {
     "name": "stderr",
     "output_type": "stream",
     "text": [
      "[Stage 272:============================================>        (167 + 1) / 200]\r"
     ]
    },
    {
     "name": "stdout",
     "output_type": "stream",
     "text": [
      "+---+------------+----------+-----------+\n",
      "|mon|publish_date|author_cnt|title_count|\n",
      "+---+------------+----------+-----------+\n",
      "|  1|        1950|       204|        206|\n",
      "|  2|        1950|       377|        399|\n",
      "|  9|        1950|         1|          1|\n",
      "| 12|        1950|        39|         40|\n",
      "|  1|        1951|       212|        217|\n",
      "|  2|        1951|       404|        420|\n",
      "|  9|        1951|         1|          1|\n",
      "| 12|        1951|        37|         37|\n",
      "|  1|        1952|       176|        185|\n",
      "|  2|        1952|       386|        407|\n",
      "| 12|        1952|        40|         41|\n",
      "|  1|        1953|       210|        216|\n",
      "|  2|        1953|       361|        371|\n",
      "| 12|        1953|        34|         34|\n",
      "|  1|        1954|       218|        220|\n",
      "|  2|        1954|       381|        391|\n",
      "| 12|        1954|        50|         50|\n",
      "|  1|        1955|       211|        214|\n",
      "|  2|        1955|       341|        357|\n",
      "| 12|        1955|        40|         40|\n",
      "|  1|        1956|       202|        207|\n",
      "|  2|        1956|       390|        400|\n",
      "| 12|        1956|        56|         56|\n",
      "|  1|        1957|       227|        233|\n",
      "|  2|        1957|       430|        450|\n",
      "| 12|        1957|        55|         56|\n",
      "|  1|        1958|       255|        265|\n",
      "|  2|        1958|       443|        460|\n",
      "| 11|        1958|         1|          1|\n",
      "| 12|        1958|        62|         62|\n",
      "|  1|        1959|       266|        276|\n",
      "|  2|        1959|       491|        517|\n",
      "| 12|        1959|        83|         83|\n",
      "|  1|        1960|       328|        334|\n",
      "|  2|        1960|       514|        537|\n",
      "| 10|        1960|         1|          1|\n",
      "| 12|        1960|        88|         89|\n",
      "|  1|        1961|       355|        363|\n",
      "|  2|        1961|       597|        619|\n",
      "|  9|        1961|         1|          1|\n",
      "| 12|        1961|        88|         89|\n",
      "|  1|        1962|       390|        399|\n",
      "|  2|        1962|       583|        613|\n",
      "| 12|        1962|       107|        108|\n",
      "|  1|        1963|       386|        397|\n",
      "|  2|        1963|       611|        663|\n",
      "| 12|        1963|       116|        116|\n",
      "|  1|        1964|       432|        440|\n",
      "|  2|        1964|       641|        687|\n",
      "| 12|        1964|       136|        139|\n",
      "|  1|        1965|       503|        514|\n",
      "|  2|        1965|       609|        663|\n",
      "| 12|        1965|       155|        155|\n",
      "|  1|        1966|       442|        455|\n",
      "|  2|        1966|       623|        656|\n",
      "| 12|        1966|       163|        165|\n",
      "|  1|        1967|       513|        529|\n",
      "|  2|        1967|       555|        589|\n",
      "| 12|        1967|       191|        193|\n",
      "|  1|        1968|       437|        449|\n",
      "|  2|        1968|       445|        477|\n",
      "| 12|        1968|       215|        219|\n",
      "|  1|        1969|       487|        494|\n",
      "|  2|        1969|       501|        535|\n",
      "| 12|        1969|       237|        245|\n",
      "|  1|        1970|       454|        473|\n",
      "|  2|        1970|       522|        546|\n",
      "|  9|        1970|         1|          1|\n",
      "| 12|        1970|       180|        196|\n",
      "+---+------------+----------+-----------+\n",
      "\n"
     ]
    },
    {
     "name": "stderr",
     "output_type": "stream",
     "text": [
      "\r",
      "                                                                                \r"
     ]
    }
   ],
   "source": [
    "from pyspark.sql.functions import month,countDistinct\n",
    "df_month_stat =  (\n",
    "                 df_author_explode\n",
    "                .filter(\"publish_date between 1950 and 1970\")\n",
    "                .withColumn(\"mon\",month(\"created_time\"))\n",
    "                .groupBy(\"mon\",\"publish_date\").agg(countDistinct(\"author\").alias(\"author_cnt\")\n",
    "                ,countDistinct(\"title\").alias(\"title_count\")).orderBy(\"publish_date\",\"mon\")\n",
    ")\n",
    "df_month_stat.show(1000)"
   ]
  },
  {
   "cell_type": "markdown",
   "metadata": {},
   "source": [
    "# max Pages per book for an author/title"
   ]
  },
  {
   "cell_type": "code",
   "execution_count": 48,
   "metadata": {},
   "outputs": [],
   "source": [
    "df_max_page=df_author_explode.groupBy(\"author\", \"title\").agg(max(\"number_of_pages\").alias(\"number_of_pages\"))"
   ]
  },
  {
   "cell_type": "code",
   "execution_count": 47,
   "metadata": {},
   "outputs": [
    {
     "name": "stderr",
     "output_type": "stream",
     "text": [
      "\r",
      "[Stage 11:>                                                         (0 + 1) / 2]\r"
     ]
    },
    {
     "name": "stdout",
     "output_type": "stream",
     "text": [
      "+----------+--------------------+---------------+\n",
      "|    author|               title|number_of_pages|\n",
      "+----------+--------------------+---------------+\n",
      "| OL848617A|Filosofia e polít...|            181|\n",
      "| OL254163A|A dance to the mu...|            792|\n",
      "|OL3249688A|Elementary linear...|            524|\n",
      "|OL5012521A|             Alfalfa|            174|\n",
      "| OL578182A|              Handel|             24|\n",
      "| OL112923A|     Rose fairy book|            212|\n",
      "|OL6321250A|Radiation effects...|            274|\n",
      "|OL6533480A|Dithola Tša mahla...|             75|\n",
      "|OL1225706A|Théâtre d'avant-g...|            269|\n",
      "|OL6537341A|Windows, walls, b...|             69|\n",
      "|OL6537462A|Comparison of pra...|            111|\n",
      "|OL4395333A|        Biochemistry|            446|\n",
      "|OL2896523A|    Devil's doorstep|            192|\n",
      "|OL1444713A|Census of industr...|            219|\n",
      "|OL4426843A|          Range camp|            155|\n",
      "|OL4798258A|       Blown to hell|            186|\n",
      "|OL1551147A| Havoc in the Indies|            208|\n",
      "|OL4739411A|         Double take|            192|\n",
      "|OL1682418A|Noriko, girl of J...|             47|\n",
      "|OL4945885A|Rok 1809 [i.e. ty...|            447|\n",
      "+----------+--------------------+---------------+\n",
      "only showing top 20 rows\n",
      "\n"
     ]
    },
    {
     "name": "stderr",
     "output_type": "stream",
     "text": [
      "\r",
      "[Stage 11:=============================>                            (1 + 1) / 2]\r",
      "\r",
      "                                                                                \r"
     ]
    }
   ],
   "source": [
    "df_max_page.show()"
   ]
  },
  {
   "cell_type": "markdown",
   "metadata": {},
   "source": [
    "# Postgress Write Check"
   ]
  },
  {
   "cell_type": "code",
   "execution_count": 5,
   "metadata": {},
   "outputs": [],
   "source": [
    "(df_movies_csv.write\n",
    " .format(\"jdbc\")\n",
    " .option(\"url\", \"jdbc:postgresql://postgres/test\")\n",
    " .option(\"dbtable\", \"public.movies\")\n",
    " .option(\"user\", \"test\")\n",
    " .option(\"password\", \"postgres\")\n",
    " .mode(\"overwrite\")\n",
    " .save())"
   ]
  },
  {
   "cell_type": "code",
   "execution_count": null,
   "metadata": {},
   "outputs": [],
   "source": []
  },
  {
   "cell_type": "code",
   "execution_count": 199,
   "metadata": {},
   "outputs": [],
   "source": []
  },
  {
   "cell_type": "code",
   "execution_count": 6,
   "metadata": {},
   "outputs": [
    {
     "name": "stderr",
     "output_type": "stream",
     "text": [
      "                                                                                \r"
     ]
    }
   ],
   "source": [
    "(df_ratings_csv_fmt\n",
    " .select([c for c in df_ratings_csv_fmt.columns if c != \"timestamp_epoch\"])\n",
    " .write\n",
    " .format(\"jdbc\")\n",
    " .option(\"url\", \"jdbc:postgresql://postgres/test\")\n",
    " .option(\"dbtable\", \"public.ratings\")\n",
    " .option(\"user\", \"test\")\n",
    " .option(\"password\", \"postgres\")\n",
    " .mode(\"overwrite\")\n",
    " .save())"
   ]
  },
  {
   "cell_type": "code",
   "execution_count": 7,
   "metadata": {},
   "outputs": [
    {
     "name": "stdout",
     "output_type": "stream",
     "text": [
      "+------+-------+------+---------------+-------------------+\n",
      "|userId|movieId|rating|timestamp_epoch|          timestamp|\n",
      "+------+-------+------+---------------+-------------------+\n",
      "|     1|      1|   4.0|      964982703|2000-07-30 18:45:03|\n",
      "|     1|      3|   4.0|      964981247|2000-07-30 18:20:47|\n",
      "|     1|      6|   4.0|      964982224|2000-07-30 18:37:04|\n",
      "|     1|     47|   5.0|      964983815|2000-07-30 19:03:35|\n",
      "|     1|     50|   5.0|      964982931|2000-07-30 18:48:51|\n",
      "|     1|     70|   3.0|      964982400|2000-07-30 18:40:00|\n",
      "|     1|    101|   5.0|      964980868|2000-07-30 18:14:28|\n",
      "|     1|    110|   4.0|      964982176|2000-07-30 18:36:16|\n",
      "|     1|    151|   5.0|      964984041|2000-07-30 19:07:21|\n",
      "|     1|    157|   5.0|      964984100|2000-07-30 19:08:20|\n",
      "|     1|    163|   5.0|      964983650|2000-07-30 19:00:50|\n",
      "|     1|    216|   5.0|      964981208|2000-07-30 18:20:08|\n",
      "|     1|    223|   3.0|      964980985|2000-07-30 18:16:25|\n",
      "|     1|    231|   5.0|      964981179|2000-07-30 18:19:39|\n",
      "|     1|    235|   4.0|      964980908|2000-07-30 18:15:08|\n",
      "|     1|    260|   5.0|      964981680|2000-07-30 18:28:00|\n",
      "|     1|    296|   3.0|      964982967|2000-07-30 18:49:27|\n",
      "|     1|    316|   3.0|      964982310|2000-07-30 18:38:30|\n",
      "|     1|    333|   5.0|      964981179|2000-07-30 18:19:39|\n",
      "|     1|    349|   4.0|      964982563|2000-07-30 18:42:43|\n",
      "+------+-------+------+---------------+-------------------+\n",
      "only showing top 20 rows\n",
      "\n"
     ]
    }
   ],
   "source": [
    "df_ratings_csv_fmt.show()"
   ]
  },
  {
   "cell_type": "code",
   "execution_count": 8,
   "metadata": {},
   "outputs": [
    {
     "data": {
      "text/plain": [
       "DataFrame[userId: string, movieId: string, rating: double, timestamp_epoch: string, timestamp: timestamp]"
      ]
     },
     "metadata": {},
     "output_type": "display_data"
    }
   ],
   "source": []
  },
  {
   "cell_type": "code",
   "execution_count": null,
   "metadata": {},
   "outputs": [],
   "source": []
  }
 ],
 "metadata": {
  "kernelspec": {
   "display_name": "Python 3 (ipykernel)",
   "language": "python",
   "name": "python3"
  },
  "language_info": {
   "codemirror_mode": {
    "name": "ipython",
    "version": 3
   },
   "file_extension": ".py",
   "mimetype": "text/x-python",
   "name": "python",
   "nbconvert_exporter": "python",
   "pygments_lexer": "ipython3",
   "version": "3.9.7"
  }
 },
 "nbformat": 4,
 "nbformat_minor": 4
}
